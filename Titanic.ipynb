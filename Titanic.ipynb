{
  "cells": [
    {
      "cell_type": "code",
      "execution_count": 1,
      "metadata": {
        "id": "JTV0kOMkeiEW"
      },
      "outputs": [],
      "source": [
        "import pandas as pd\n",
        "import numpy as np\n",
        "from sklearn.model_selection import train_test_split\n",
        "from sklearn.svm import SVC\n",
        "from sklearn.preprocessing import OneHotEncoder\n",
        "from sklearn.linear_model import LogisticRegression\n",
        "from sklearn.ensemble import RandomForestClassifier\n",
        "from sklearn.ensemble import ExtraTreesClassifier\n",
        "from sklearn.ensemble import VotingClassifier\n",
        "from xgboost import XGBClassifier\n",
        "from sklearn.preprocessing import StandardScaler\n",
        "from sklearn.model_selection import GridSearchCV\n",
        "from sklearn.metrics import accuracy_score, classification_report\n",
        "from sklearn.model_selection import cross_val_score\n",
        "\n",
        "\n",
        "# Load the data\n",
        "train_data = pd.read_csv('train.csv')\n",
        "test_data = pd.read_csv('test.csv')"
      ]
    },
    {
      "attachments": {},
      "cell_type": "markdown",
      "metadata": {},
      "source": [
        "Data Overview"
      ]
    },
    {
      "cell_type": "code",
      "execution_count": 2,
      "metadata": {
        "colab": {
          "base_uri": "https://localhost:8080/"
        },
        "id": "roG4viKWl9aV",
        "outputId": "a8264ee1-b096-4db6-c6c2-9140cf1dc599"
      },
      "outputs": [
        {
          "name": "stdout",
          "output_type": "stream",
          "text": [
            "Index(['PassengerId', 'Survived', 'Pclass', 'Name', 'Sex', 'Age', 'SibSp',\n",
            "       'Parch', 'Ticket', 'Fare', 'Cabin', 'Embarked'],\n",
            "      dtype='object')\n",
            "Index(['PassengerId', 'Pclass', 'Name', 'Sex', 'Age', 'SibSp', 'Parch',\n",
            "       'Ticket', 'Fare', 'Cabin', 'Embarked'],\n",
            "      dtype='object')\n",
            "891 records for the training dataset.\n",
            "418 records for the testing dataset. \n",
            "PassengerId      0\n",
            "Survived         0\n",
            "Pclass           0\n",
            "Name             0\n",
            "Sex              0\n",
            "Age            177\n",
            "SibSp            0\n",
            "Parch            0\n",
            "Ticket           0\n",
            "Fare             0\n",
            "Cabin          687\n",
            "Embarked         2\n",
            "dtype: int64\n",
            "-----------\n",
            "-----------\n",
            "PassengerId      0\n",
            "Pclass           0\n",
            "Name             0\n",
            "Sex              0\n",
            "Age             86\n",
            "SibSp            0\n",
            "Parch            0\n",
            "Ticket           0\n",
            "Fare             1\n",
            "Cabin          327\n",
            "Embarked         0\n",
            "dtype: int64\n",
            "             Survived\n",
            "PassengerId          \n",
            "446               1.0\n",
            "320               1.0\n",
            "335               1.0\n",
            "331               1.0\n",
            "330               1.0\n",
            "...               ...\n",
            "366               0.0\n",
            "372               0.0\n",
            "373               0.0\n",
            "374               0.0\n",
            "891               0.0\n",
            "\n",
            "[891 rows x 1 columns]\n",
            "        Survived\n",
            "Pclass          \n",
            "1       0.629630\n",
            "2       0.472826\n",
            "3       0.242363\n",
            "                                          Survived\n",
            "Name                                              \n",
            "Moss, Mr. Albert Johan                         1.0\n",
            "Lemore, Mrs. (Amelia Milley)                   1.0\n",
            "Fortune, Miss. Mabel Helen                     1.0\n",
            "Fortune, Miss. Alice Elizabeth                 1.0\n",
            "Silven, Miss. Lyyli Karoliina                  1.0\n",
            "...                                            ...\n",
            "Hoyt, Mr. William Fisher                       0.0\n",
            "Humblen, Mr. Adolf Mathias Nicolai Olsen       0.0\n",
            "Hunt, Mr. George Henry                         0.0\n",
            "Ibrahim Shawah, Mr. Yousseff                   0.0\n",
            "van Melkebeke, Mr. Philemon                    0.0\n",
            "\n",
            "[891 rows x 1 columns]\n",
            "        Survived\n",
            "Sex             \n",
            "female  0.742038\n",
            "male    0.188908\n",
            "       Survived\n",
            "Age            \n",
            "0.42        1.0\n",
            "5.00        1.0\n",
            "63.00       1.0\n",
            "53.00       1.0\n",
            "0.67        1.0\n",
            "...         ...\n",
            "28.50       0.0\n",
            "36.50       0.0\n",
            "34.50       0.0\n",
            "20.50       0.0\n",
            "23.50       0.0\n",
            "\n",
            "[88 rows x 1 columns]\n",
            "       Survived\n",
            "SibSp          \n",
            "1      0.535885\n",
            "2      0.464286\n",
            "0      0.345395\n",
            "3      0.250000\n",
            "4      0.166667\n",
            "5      0.000000\n",
            "8      0.000000\n",
            "       Survived\n",
            "Parch          \n",
            "3      0.600000\n",
            "1      0.550847\n",
            "2      0.500000\n",
            "0      0.343658\n",
            "5      0.200000\n",
            "4      0.000000\n",
            "6      0.000000\n",
            "        Survived\n",
            "Ticket          \n",
            "110152       1.0\n",
            "26360        1.0\n",
            "386525       1.0\n",
            "382651       1.0\n",
            "244373       1.0\n",
            "...          ...\n",
            "349246       0.0\n",
            "349245       0.0\n",
            "2669         0.0\n",
            "349243       0.0\n",
            "347464       0.0\n",
            "\n",
            "[681 rows x 1 columns]\n",
            "          Survived\n",
            "Fare              \n",
            "512.3292       1.0\n",
            "57.9792        1.0\n",
            "13.8583        1.0\n",
            "13.7917        1.0\n",
            "13.4167        1.0\n",
            "...            ...\n",
            "15.5500        0.0\n",
            "47.1000        0.0\n",
            "46.9000        0.0\n",
            "42.4000        0.0\n",
            "21.0750        0.0\n",
            "\n",
            "[248 rows x 1 columns]\n",
            "         Survived\n",
            "Cabin            \n",
            "C62 C64       1.0\n",
            "D21           1.0\n",
            "D17           1.0\n",
            "D19           1.0\n",
            "C148          1.0\n",
            "...           ...\n",
            "C46           0.0\n",
            "C30           0.0\n",
            "C128          0.0\n",
            "C124          0.0\n",
            "T             0.0\n",
            "\n",
            "[147 rows x 1 columns]\n",
            "          Survived\n",
            "Embarked          \n",
            "C         0.553571\n",
            "Q         0.389610\n",
            "S         0.336957\n"
          ]
        }
      ],
      "source": [
        "print(train_data.columns)\n",
        "print(test_data.columns)\n",
        "print(len(train_data), 'records for the training dataset.')\n",
        "print(len(test_data), 'records for the testing dataset. ')\n",
        "print(train_data.isnull().sum())\n",
        "print('-----------')\n",
        "print('-----------')\n",
        "print(test_data.isnull().sum())\n",
        "for f in test_data.columns:\n",
        "    print(train_data[[f, 'Survived']].groupby(f).mean().sort_values(by='Survived', ascending=False))"
      ]
    },
    {
      "cell_type": "code",
      "execution_count": 3,
      "metadata": {
        "colab": {
          "base_uri": "https://localhost:8080/",
          "height": 300
        },
        "id": "68OEUR-O7xQ5",
        "outputId": "57caaa33-4897-4b7d-a442-31abb954afc5"
      },
      "outputs": [
        {
          "data": {
            "text/html": [
              "<div>\n",
              "<style scoped>\n",
              "    .dataframe tbody tr th:only-of-type {\n",
              "        vertical-align: middle;\n",
              "    }\n",
              "\n",
              "    .dataframe tbody tr th {\n",
              "        vertical-align: top;\n",
              "    }\n",
              "\n",
              "    .dataframe thead th {\n",
              "        text-align: right;\n",
              "    }\n",
              "</style>\n",
              "<table border=\"1\" class=\"dataframe\">\n",
              "  <thead>\n",
              "    <tr style=\"text-align: right;\">\n",
              "      <th></th>\n",
              "      <th>PassengerId</th>\n",
              "      <th>Survived</th>\n",
              "      <th>Pclass</th>\n",
              "      <th>Age</th>\n",
              "      <th>SibSp</th>\n",
              "      <th>Parch</th>\n",
              "      <th>Fare</th>\n",
              "    </tr>\n",
              "  </thead>\n",
              "  <tbody>\n",
              "    <tr>\n",
              "      <th>count</th>\n",
              "      <td>891.000000</td>\n",
              "      <td>891.000000</td>\n",
              "      <td>891.000000</td>\n",
              "      <td>714.000000</td>\n",
              "      <td>891.000000</td>\n",
              "      <td>891.000000</td>\n",
              "      <td>891.000000</td>\n",
              "    </tr>\n",
              "    <tr>\n",
              "      <th>mean</th>\n",
              "      <td>446.000000</td>\n",
              "      <td>0.383838</td>\n",
              "      <td>2.308642</td>\n",
              "      <td>29.699118</td>\n",
              "      <td>0.523008</td>\n",
              "      <td>0.381594</td>\n",
              "      <td>32.204208</td>\n",
              "    </tr>\n",
              "    <tr>\n",
              "      <th>std</th>\n",
              "      <td>257.353842</td>\n",
              "      <td>0.486592</td>\n",
              "      <td>0.836071</td>\n",
              "      <td>14.526497</td>\n",
              "      <td>1.102743</td>\n",
              "      <td>0.806057</td>\n",
              "      <td>49.693429</td>\n",
              "    </tr>\n",
              "    <tr>\n",
              "      <th>min</th>\n",
              "      <td>1.000000</td>\n",
              "      <td>0.000000</td>\n",
              "      <td>1.000000</td>\n",
              "      <td>0.420000</td>\n",
              "      <td>0.000000</td>\n",
              "      <td>0.000000</td>\n",
              "      <td>0.000000</td>\n",
              "    </tr>\n",
              "    <tr>\n",
              "      <th>25%</th>\n",
              "      <td>223.500000</td>\n",
              "      <td>0.000000</td>\n",
              "      <td>2.000000</td>\n",
              "      <td>20.125000</td>\n",
              "      <td>0.000000</td>\n",
              "      <td>0.000000</td>\n",
              "      <td>7.910400</td>\n",
              "    </tr>\n",
              "    <tr>\n",
              "      <th>50%</th>\n",
              "      <td>446.000000</td>\n",
              "      <td>0.000000</td>\n",
              "      <td>3.000000</td>\n",
              "      <td>28.000000</td>\n",
              "      <td>0.000000</td>\n",
              "      <td>0.000000</td>\n",
              "      <td>14.454200</td>\n",
              "    </tr>\n",
              "    <tr>\n",
              "      <th>75%</th>\n",
              "      <td>668.500000</td>\n",
              "      <td>1.000000</td>\n",
              "      <td>3.000000</td>\n",
              "      <td>38.000000</td>\n",
              "      <td>1.000000</td>\n",
              "      <td>0.000000</td>\n",
              "      <td>31.000000</td>\n",
              "    </tr>\n",
              "    <tr>\n",
              "      <th>max</th>\n",
              "      <td>891.000000</td>\n",
              "      <td>1.000000</td>\n",
              "      <td>3.000000</td>\n",
              "      <td>80.000000</td>\n",
              "      <td>8.000000</td>\n",
              "      <td>6.000000</td>\n",
              "      <td>512.329200</td>\n",
              "    </tr>\n",
              "  </tbody>\n",
              "</table>\n",
              "</div>"
            ],
            "text/plain": [
              "       PassengerId    Survived      Pclass         Age       SibSp  \\\n",
              "count   891.000000  891.000000  891.000000  714.000000  891.000000   \n",
              "mean    446.000000    0.383838    2.308642   29.699118    0.523008   \n",
              "std     257.353842    0.486592    0.836071   14.526497    1.102743   \n",
              "min       1.000000    0.000000    1.000000    0.420000    0.000000   \n",
              "25%     223.500000    0.000000    2.000000   20.125000    0.000000   \n",
              "50%     446.000000    0.000000    3.000000   28.000000    0.000000   \n",
              "75%     668.500000    1.000000    3.000000   38.000000    1.000000   \n",
              "max     891.000000    1.000000    3.000000   80.000000    8.000000   \n",
              "\n",
              "            Parch        Fare  \n",
              "count  891.000000  891.000000  \n",
              "mean     0.381594   32.204208  \n",
              "std      0.806057   49.693429  \n",
              "min      0.000000    0.000000  \n",
              "25%      0.000000    7.910400  \n",
              "50%      0.000000   14.454200  \n",
              "75%      0.000000   31.000000  \n",
              "max      6.000000  512.329200  "
            ]
          },
          "execution_count": 3,
          "metadata": {},
          "output_type": "execute_result"
        }
      ],
      "source": [
        "train_data.describe()"
      ]
    },
    {
      "attachments": {},
      "cell_type": "markdown",
      "metadata": {},
      "source": [
        "Data Preprocessing"
      ]
    },
    {
      "cell_type": "code",
      "execution_count": 4,
      "metadata": {
        "id": "CYme3frtc9dY"
      },
      "outputs": [],
      "source": [
        "def get_title(var):\n",
        "    title = var.split(',')[1]\n",
        "    title2 = title.split('.')[0]\n",
        "    return title2[1:]"
      ]
    },
    {
      "cell_type": "code",
      "execution_count": 5,
      "metadata": {
        "id": "zGjoJEAyVslp"
      },
      "outputs": [],
      "source": [
        "def get_ftype(var):\n",
        "  if var<5:\n",
        "      return 'small'\n",
        "  elif var<10:\n",
        "      return 'medium'\n",
        "  else:\n",
        "      return 'large'"
      ]
    },
    {
      "cell_type": "code",
      "execution_count": 6,
      "metadata": {
        "colab": {
          "base_uri": "https://localhost:8080/"
        },
        "id": "3leOd_rMlrlT",
        "outputId": "94cb3e05-faeb-4311-8177-bab2d7141402"
      },
      "outputs": [],
      "source": [
        "# Preprocess the data\n",
        "def preprocess_data(data):\n",
        "    data['Title'] = data.apply(lambda x: get_title(x.Name), axis = 1)\n",
        "    data['FamSize'] = data.apply(lambda x: x.Parch+x.SibSp,axis=1)\n",
        "    data['FamType'] = data.apply(lambda x: get_ftype(x.FamSize),axis=1)\n",
        "    data['Age'].fillna(data['Age'].median(), inplace=True)\n",
        "    scaler = StandardScaler()\n",
        "    data[\"AgeBucket\"] = data[\"Age\"] // 15 * 15\n",
        "    data['AgeBucket'] = scaler.fit_transform(data[['AgeBucket']])\n",
        "    data['Age'] = scaler.fit_transform(data[['Age']])\n",
        "    data['Embarked'].fillna(data['Embarked'].mode()[0], inplace=True)\n",
        "    data['FamSize'] = scaler.fit_transform(data[['FamSize']])\n",
        "    data['Fare'].fillna(data['Fare'].median(), inplace=True)\n",
        "    data[\"Fare2\"] = data[\"Fare\"] // 1000 * 1000 \n",
        "    data['Fare2'] = scaler.fit_transform(data[['Fare2']])\n",
        "    data['Fare'] = scaler.fit_transform(data[['Fare']])\n",
        "    # Encode categorical columns\n",
        "    label_encoder = OneHotEncoder(sparse_output=False)\n",
        "    data['Sex'] = label_encoder.fit_transform(data['Sex'].values.reshape(-1,1))\n",
        "    data['Title'] = label_encoder.fit_transform(data['Title'].values.reshape(-1,1))\n",
        "    data['FamType'] = label_encoder.fit_transform(data['FamType'].values.reshape(-1,1))\n",
        "    data['Embarked'] = label_encoder.fit_transform(data['Embarked'].values.reshape(-1,1))\n",
        "    return data\n",
        "\n",
        "tr_data = preprocess_data(train_data)\n",
        "te_data = preprocess_data(test_data) #'transform' would be more suitable"
      ]
    },
    {
      "cell_type": "code",
      "execution_count": 8,
      "metadata": {
        "colab": {
          "base_uri": "https://localhost:8080/"
        },
        "id": "X9YMyAGQWzRj",
        "outputId": "81f71496-568a-4208-9a07-e9d3a2155da0"
      },
      "outputs": [
        {
          "data": {
            "text/plain": [
              "Survived       1.000000\n",
              "Fare           0.257307\n",
              "Embarked       0.085221\n",
              "Parch          0.081629\n",
              "Fare2          0.042470\n",
              "Sex            0.011329\n",
              "FamSize        0.011329\n",
              "AgeBucket      0.008185\n",
              "PassengerId   -0.005007\n",
              "FamType       -0.026456\n",
              "Age           -0.026456\n",
              "Title         -0.026456\n",
              "SibSp         -0.035322\n",
              "Pclass        -0.338481\n",
              "Name: Survived, dtype: float64"
            ]
          },
          "execution_count": 8,
          "metadata": {},
          "output_type": "execute_result"
        }
      ],
      "source": [
        "tdata = tr_data.copy()\n",
        "corr_matrix = tdata.corr(numeric_only=True)\n",
        "corr_matrix[\"Survived\"].sort_values(ascending=False)"
      ]
    },
    {
      "attachments": {},
      "cell_type": "markdown",
      "metadata": {},
      "source": [
        "Selecting Features "
      ]
    },
    {
      "cell_type": "code",
      "execution_count": 7,
      "metadata": {
        "id": "5IPptQO5VhEz"
      },
      "outputs": [],
      "source": [
        "features = ['Pclass','Title','Age','Sex','Fare','Fare2','AgeBucket','FamSize','FamType','Embarked']\n",
        "target = 'Survived'\n",
        "\n",
        "X = tr_data[features]\n",
        "y = tr_data[target]"
      ]
    },
    {
      "attachments": {},
      "cell_type": "markdown",
      "metadata": {},
      "source": [
        "Model Training and Comparisons"
      ]
    },
    {
      "cell_type": "code",
      "execution_count": 8,
      "metadata": {
        "colab": {
          "base_uri": "https://localhost:8080/"
        },
        "id": "bvISnu75lyWR",
        "outputId": "4b9f58dd-0f74-4f31-fa37-23078be50f40"
      },
      "outputs": [
        {
          "name": "stdout",
          "output_type": "stream",
          "text": [
            "ExtraTreesClassifier\n",
            "Accuracy:  0.7932960893854749\n",
            "              precision    recall  f1-score   support\n",
            "\n",
            "           0       0.84      0.80      0.82       105\n",
            "           1       0.73      0.78      0.76        74\n",
            "\n",
            "    accuracy                           0.79       179\n",
            "   macro avg       0.79      0.79      0.79       179\n",
            "weighted avg       0.80      0.79      0.79       179\n",
            "\n",
            "XGBClassifier\n",
            "Accuracy:  0.7932960893854749\n",
            "              precision    recall  f1-score   support\n",
            "\n",
            "           0       0.83      0.81      0.82       105\n",
            "           1       0.74      0.77      0.75        74\n",
            "\n",
            "    accuracy                           0.79       179\n",
            "   macro avg       0.79      0.79      0.79       179\n",
            "weighted avg       0.79      0.79      0.79       179\n",
            "\n",
            "RandomForestClassifier\n",
            "Accuracy:  0.8268156424581006\n",
            "              precision    recall  f1-score   support\n",
            "\n",
            "           0       0.84      0.88      0.86       105\n",
            "           1       0.81      0.76      0.78        74\n",
            "\n",
            "    accuracy                           0.83       179\n",
            "   macro avg       0.82      0.82      0.82       179\n",
            "weighted avg       0.83      0.83      0.83       179\n",
            "\n",
            "LogisticRegression\n",
            "Accuracy:  0.8044692737430168\n",
            "              precision    recall  f1-score   support\n",
            "\n",
            "           0       0.82      0.86      0.84       105\n",
            "           1       0.78      0.73      0.76        74\n",
            "\n",
            "    accuracy                           0.80       179\n",
            "   macro avg       0.80      0.79      0.80       179\n",
            "weighted avg       0.80      0.80      0.80       179\n",
            "\n",
            "SVC\n",
            "Accuracy:  0.8156424581005587\n",
            "              precision    recall  f1-score   support\n",
            "\n",
            "           0       0.82      0.88      0.85       105\n",
            "           1       0.81      0.73      0.77        74\n",
            "\n",
            "    accuracy                           0.82       179\n",
            "   macro avg       0.81      0.80      0.81       179\n",
            "weighted avg       0.82      0.82      0.81       179\n",
            "\n",
            "VotingClassifier\n",
            "Accuracy:  0.8324022346368715\n",
            "              precision    recall  f1-score   support\n",
            "\n",
            "           0       0.82      0.91      0.86       105\n",
            "           1       0.85      0.72      0.78        74\n",
            "\n",
            "    accuracy                           0.83       179\n",
            "   macro avg       0.84      0.82      0.82       179\n",
            "weighted avg       0.83      0.83      0.83       179\n",
            "\n"
          ]
        }
      ],
      "source": [
        "# Split the data into train and validation sets\n",
        "X_train, X_val, y_train, y_val = train_test_split(X, y, test_size=0.2, random_state=42)\n",
        "accuracy = []\n",
        "table = []\n",
        "# Train the model\n",
        "emodel = ExtraTreesClassifier(n_estimators=100, random_state=42)\n",
        "xmodel = XGBClassifier(random_state=42)\n",
        "fmodel = RandomForestClassifier(n_estimators=100, random_state=42)\n",
        "lmodel = LogisticRegression(random_state=42)\n",
        "svm_clf = SVC(gamma=\"auto\",random_state=42)\n",
        "voting_clf = VotingClassifier(\n",
        " estimators=[('rf', fmodel), ('lr', lmodel), ('svc', svm_clf),('et',emodel)],\n",
        " voting='hard')\n",
        "\n",
        "models = {\"ExtraTreesClassifier\":emodel,\"XGBClassifier\":xmodel,\"RandomForestClassifier\":fmodel,\"LogisticRegression\":lmodel,\"SVC\":svm_clf,\"VotingClassifier\":voting_clf}\n",
        "for model in models:\n",
        "    print(model)\n",
        "    models[model].fit(X_train, y_train)\n",
        "    y_pred = models[model].predict(X_val)\n",
        "    print(\"Accuracy: \",accuracy_score(y_val, y_pred))\n",
        "    print(classification_report(y_val,y_pred))"
      ]
    },
    {
      "attachments": {},
      "cell_type": "markdown",
      "metadata": {},
      "source": [
        "Model Optimizations"
      ]
    },
    {
      "cell_type": "code",
      "execution_count": 9,
      "metadata": {},
      "outputs": [
        {
          "name": "stdout",
          "output_type": "stream",
          "text": [
            "Best Penalty: l1\n",
            "Best C: 0.11233240329780277\n"
          ]
        }
      ],
      "source": [
        "LR = LogisticRegression(random_state=42,max_iter=3000)\n",
        "penalty = ['l1', 'l2']\n",
        "\n",
        "# Create regularization hyperparameter space\n",
        "C = np.logspace(-2, 2, 100)\n",
        "\n",
        "\n",
        "lr_param_grid = [{'penalty': ['l2'], 'C': C},\n",
        "                 {'penalty': ['l1'], 'C': C, 'solver':['saga']}]\n",
        "\n",
        "clf = GridSearchCV(LogisticRegression(), lr_param_grid)\n",
        "\n",
        "gsLR = GridSearchCV(LR,param_grid = lr_param_grid, cv=5, scoring=\"accuracy\")\n",
        "\n",
        "gsLR.fit(X_train,y_train)\n",
        "\n",
        "LR_best = gsLR.best_estimator_\n",
        "\n",
        "print('Best Penalty:', LR_best.get_params()['penalty'])\n",
        "print('Best C:', LR_best.get_params()['C'])"
      ]
    },
    {
      "cell_type": "code",
      "execution_count": 10,
      "metadata": {},
      "outputs": [
        {
          "data": {
            "text/html": [
              "<style>#sk-container-id-1 {color: black;}#sk-container-id-1 pre{padding: 0;}#sk-container-id-1 div.sk-toggleable {background-color: white;}#sk-container-id-1 label.sk-toggleable__label {cursor: pointer;display: block;width: 100%;margin-bottom: 0;padding: 0.3em;box-sizing: border-box;text-align: center;}#sk-container-id-1 label.sk-toggleable__label-arrow:before {content: \"▸\";float: left;margin-right: 0.25em;color: #696969;}#sk-container-id-1 label.sk-toggleable__label-arrow:hover:before {color: black;}#sk-container-id-1 div.sk-estimator:hover label.sk-toggleable__label-arrow:before {color: black;}#sk-container-id-1 div.sk-toggleable__content {max-height: 0;max-width: 0;overflow: hidden;text-align: left;background-color: #f0f8ff;}#sk-container-id-1 div.sk-toggleable__content pre {margin: 0.2em;color: black;border-radius: 0.25em;background-color: #f0f8ff;}#sk-container-id-1 input.sk-toggleable__control:checked~div.sk-toggleable__content {max-height: 200px;max-width: 100%;overflow: auto;}#sk-container-id-1 input.sk-toggleable__control:checked~label.sk-toggleable__label-arrow:before {content: \"▾\";}#sk-container-id-1 div.sk-estimator input.sk-toggleable__control:checked~label.sk-toggleable__label {background-color: #d4ebff;}#sk-container-id-1 div.sk-label input.sk-toggleable__control:checked~label.sk-toggleable__label {background-color: #d4ebff;}#sk-container-id-1 input.sk-hidden--visually {border: 0;clip: rect(1px 1px 1px 1px);clip: rect(1px, 1px, 1px, 1px);height: 1px;margin: -1px;overflow: hidden;padding: 0;position: absolute;width: 1px;}#sk-container-id-1 div.sk-estimator {font-family: monospace;background-color: #f0f8ff;border: 1px dotted black;border-radius: 0.25em;box-sizing: border-box;margin-bottom: 0.5em;}#sk-container-id-1 div.sk-estimator:hover {background-color: #d4ebff;}#sk-container-id-1 div.sk-parallel-item::after {content: \"\";width: 100%;border-bottom: 1px solid gray;flex-grow: 1;}#sk-container-id-1 div.sk-label:hover label.sk-toggleable__label {background-color: #d4ebff;}#sk-container-id-1 div.sk-serial::before {content: \"\";position: absolute;border-left: 1px solid gray;box-sizing: border-box;top: 0;bottom: 0;left: 50%;z-index: 0;}#sk-container-id-1 div.sk-serial {display: flex;flex-direction: column;align-items: center;background-color: white;padding-right: 0.2em;padding-left: 0.2em;position: relative;}#sk-container-id-1 div.sk-item {position: relative;z-index: 1;}#sk-container-id-1 div.sk-parallel {display: flex;align-items: stretch;justify-content: center;background-color: white;position: relative;}#sk-container-id-1 div.sk-item::before, #sk-container-id-1 div.sk-parallel-item::before {content: \"\";position: absolute;border-left: 1px solid gray;box-sizing: border-box;top: 0;bottom: 0;left: 50%;z-index: -1;}#sk-container-id-1 div.sk-parallel-item {display: flex;flex-direction: column;z-index: 1;position: relative;background-color: white;}#sk-container-id-1 div.sk-parallel-item:first-child::after {align-self: flex-end;width: 50%;}#sk-container-id-1 div.sk-parallel-item:last-child::after {align-self: flex-start;width: 50%;}#sk-container-id-1 div.sk-parallel-item:only-child::after {width: 0;}#sk-container-id-1 div.sk-dashed-wrapped {border: 1px dashed gray;margin: 0 0.4em 0.5em 0.4em;box-sizing: border-box;padding-bottom: 0.4em;background-color: white;}#sk-container-id-1 div.sk-label label {font-family: monospace;font-weight: bold;display: inline-block;line-height: 1.2em;}#sk-container-id-1 div.sk-label-container {text-align: center;}#sk-container-id-1 div.sk-container {/* jupyter's `normalize.less` sets `[hidden] { display: none; }` but bootstrap.min.css set `[hidden] { display: none !important; }` so we also need the `!important` here to be able to override the default hidden behavior on the sphinx rendered scikit-learn.org. See: https://github.com/scikit-learn/scikit-learn/issues/21755 */display: inline-block !important;position: relative;}#sk-container-id-1 div.sk-text-repr-fallback {display: none;}</style><div id=\"sk-container-id-1\" class=\"sk-top-container\"><div class=\"sk-text-repr-fallback\"><pre>SVC(C=12.915496650148826, gamma=0.0774263682681127, random_state=42)</pre><b>In a Jupyter environment, please rerun this cell to show the HTML representation or trust the notebook. <br />On GitHub, the HTML representation is unable to render, please try loading this page with nbviewer.org.</b></div><div class=\"sk-container\" hidden><div class=\"sk-item\"><div class=\"sk-estimator sk-toggleable\"><input class=\"sk-toggleable__control sk-hidden--visually\" id=\"sk-estimator-id-1\" type=\"checkbox\" checked><label for=\"sk-estimator-id-1\" class=\"sk-toggleable__label sk-toggleable__label-arrow\">SVC</label><div class=\"sk-toggleable__content\"><pre>SVC(C=12.915496650148826, gamma=0.0774263682681127, random_state=42)</pre></div></div></div></div></div>"
            ],
            "text/plain": [
              "SVC(C=12.915496650148826, gamma=0.0774263682681127, random_state=42)"
            ]
          },
          "execution_count": 10,
          "metadata": {},
          "output_type": "execute_result"
        }
      ],
      "source": [
        "param_grid = [\n",
        " {'C': np.logspace(-2, 2, 10), 'gamma': np.logspace(-2, 2, 10)}\n",
        " ]\n",
        "svm_clf = SVC(random_state=42)\n",
        "grid_search = GridSearchCV(svm_clf, param_grid, cv=5,\n",
        " scoring='accuracy',\n",
        "return_train_score=True)\n",
        "grid_search.fit(X_train, y_train)\n",
        "svc = grid_search.best_estimator_\n",
        "grid_search.best_estimator_"
      ]
    },
    {
      "cell_type": "code",
      "execution_count": 19,
      "metadata": {},
      "outputs": [
        {
          "data": {
            "text/html": [
              "<style>#sk-container-id-4 {color: black;}#sk-container-id-4 pre{padding: 0;}#sk-container-id-4 div.sk-toggleable {background-color: white;}#sk-container-id-4 label.sk-toggleable__label {cursor: pointer;display: block;width: 100%;margin-bottom: 0;padding: 0.3em;box-sizing: border-box;text-align: center;}#sk-container-id-4 label.sk-toggleable__label-arrow:before {content: \"▸\";float: left;margin-right: 0.25em;color: #696969;}#sk-container-id-4 label.sk-toggleable__label-arrow:hover:before {color: black;}#sk-container-id-4 div.sk-estimator:hover label.sk-toggleable__label-arrow:before {color: black;}#sk-container-id-4 div.sk-toggleable__content {max-height: 0;max-width: 0;overflow: hidden;text-align: left;background-color: #f0f8ff;}#sk-container-id-4 div.sk-toggleable__content pre {margin: 0.2em;color: black;border-radius: 0.25em;background-color: #f0f8ff;}#sk-container-id-4 input.sk-toggleable__control:checked~div.sk-toggleable__content {max-height: 200px;max-width: 100%;overflow: auto;}#sk-container-id-4 input.sk-toggleable__control:checked~label.sk-toggleable__label-arrow:before {content: \"▾\";}#sk-container-id-4 div.sk-estimator input.sk-toggleable__control:checked~label.sk-toggleable__label {background-color: #d4ebff;}#sk-container-id-4 div.sk-label input.sk-toggleable__control:checked~label.sk-toggleable__label {background-color: #d4ebff;}#sk-container-id-4 input.sk-hidden--visually {border: 0;clip: rect(1px 1px 1px 1px);clip: rect(1px, 1px, 1px, 1px);height: 1px;margin: -1px;overflow: hidden;padding: 0;position: absolute;width: 1px;}#sk-container-id-4 div.sk-estimator {font-family: monospace;background-color: #f0f8ff;border: 1px dotted black;border-radius: 0.25em;box-sizing: border-box;margin-bottom: 0.5em;}#sk-container-id-4 div.sk-estimator:hover {background-color: #d4ebff;}#sk-container-id-4 div.sk-parallel-item::after {content: \"\";width: 100%;border-bottom: 1px solid gray;flex-grow: 1;}#sk-container-id-4 div.sk-label:hover label.sk-toggleable__label {background-color: #d4ebff;}#sk-container-id-4 div.sk-serial::before {content: \"\";position: absolute;border-left: 1px solid gray;box-sizing: border-box;top: 0;bottom: 0;left: 50%;z-index: 0;}#sk-container-id-4 div.sk-serial {display: flex;flex-direction: column;align-items: center;background-color: white;padding-right: 0.2em;padding-left: 0.2em;position: relative;}#sk-container-id-4 div.sk-item {position: relative;z-index: 1;}#sk-container-id-4 div.sk-parallel {display: flex;align-items: stretch;justify-content: center;background-color: white;position: relative;}#sk-container-id-4 div.sk-item::before, #sk-container-id-4 div.sk-parallel-item::before {content: \"\";position: absolute;border-left: 1px solid gray;box-sizing: border-box;top: 0;bottom: 0;left: 50%;z-index: -1;}#sk-container-id-4 div.sk-parallel-item {display: flex;flex-direction: column;z-index: 1;position: relative;background-color: white;}#sk-container-id-4 div.sk-parallel-item:first-child::after {align-self: flex-end;width: 50%;}#sk-container-id-4 div.sk-parallel-item:last-child::after {align-self: flex-start;width: 50%;}#sk-container-id-4 div.sk-parallel-item:only-child::after {width: 0;}#sk-container-id-4 div.sk-dashed-wrapped {border: 1px dashed gray;margin: 0 0.4em 0.5em 0.4em;box-sizing: border-box;padding-bottom: 0.4em;background-color: white;}#sk-container-id-4 div.sk-label label {font-family: monospace;font-weight: bold;display: inline-block;line-height: 1.2em;}#sk-container-id-4 div.sk-label-container {text-align: center;}#sk-container-id-4 div.sk-container {/* jupyter's `normalize.less` sets `[hidden] { display: none; }` but bootstrap.min.css set `[hidden] { display: none !important; }` so we also need the `!important` here to be able to override the default hidden behavior on the sphinx rendered scikit-learn.org. See: https://github.com/scikit-learn/scikit-learn/issues/21755 */display: inline-block !important;position: relative;}#sk-container-id-4 div.sk-text-repr-fallback {display: none;}</style><div id=\"sk-container-id-4\" class=\"sk-top-container\"><div class=\"sk-text-repr-fallback\"><pre>RandomForestClassifier(max_features=6)</pre><b>In a Jupyter environment, please rerun this cell to show the HTML representation or trust the notebook. <br />On GitHub, the HTML representation is unable to render, please try loading this page with nbviewer.org.</b></div><div class=\"sk-container\" hidden><div class=\"sk-item\"><div class=\"sk-estimator sk-toggleable\"><input class=\"sk-toggleable__control sk-hidden--visually\" id=\"sk-estimator-id-4\" type=\"checkbox\" checked><label for=\"sk-estimator-id-4\" class=\"sk-toggleable__label sk-toggleable__label-arrow\">RandomForestClassifier</label><div class=\"sk-toggleable__content\"><pre>RandomForestClassifier(max_features=6)</pre></div></div></div></div></div>"
            ],
            "text/plain": [
              "RandomForestClassifier(max_features=6)"
            ]
          },
          "execution_count": 19,
          "metadata": {},
          "output_type": "execute_result"
        }
      ],
      "source": [
        "param_grid = [\n",
        " {'class_weight': ['balanced',None],'n_estimators': [50, 100, 150], 'max_features': [2, 4, 6, 8]},\n",
        " {'bootstrap':[False], 'n_estimators': [50, 100, 150], 'max_features': [2, 3, 4]},\n",
        " ]\n",
        "forest_reg = RandomForestClassifier()\n",
        "grid_search = GridSearchCV(forest_reg, param_grid, cv=5,\n",
        " scoring='accuracy',\n",
        "return_train_score=True)\n",
        "grid_search.fit(X_train, y_train)\n",
        "forest = grid_search.best_estimator_\n",
        "forest"
      ]
    },
    {
      "attachments": {},
      "cell_type": "markdown",
      "metadata": {},
      "source": [
        "Model Comparisons II"
      ]
    },
    {
      "cell_type": "code",
      "execution_count": 28,
      "metadata": {
        "colab": {
          "base_uri": "https://localhost:8080/"
        },
        "id": "4j6eNvc8O6do",
        "outputId": "6bede1bb-bd0a-4440-a030-353fa3d6dfd3"
      },
      "outputs": [
        {
          "name": "stdout",
          "output_type": "stream",
          "text": [
            "ExtraTreesClassifier\n",
            "Mean Accuracy:  0.7711071987480438\n",
            "              precision    recall  f1-score   support\n",
            "\n",
            "           0       0.84      0.80      0.82       105\n",
            "           1       0.73      0.78      0.76        74\n",
            "\n",
            "    accuracy                           0.79       179\n",
            "   macro avg       0.79      0.79      0.79       179\n",
            "weighted avg       0.80      0.79      0.79       179\n",
            "\n",
            "XGBClassifier\n",
            "Mean Accuracy:  0.7977699530516432\n",
            "              precision    recall  f1-score   support\n",
            "\n",
            "           0       0.83      0.81      0.82       105\n",
            "           1       0.74      0.77      0.75        74\n",
            "\n",
            "    accuracy                           0.79       179\n",
            "   macro avg       0.79      0.79      0.79       179\n",
            "weighted avg       0.79      0.79      0.79       179\n",
            "\n",
            "RandomForestClassifier\n",
            "Mean Accuracy:  0.7907472613458529\n",
            "              precision    recall  f1-score   support\n",
            "\n",
            "           0       0.83      0.83      0.83       105\n",
            "           1       0.76      0.76      0.76        74\n",
            "\n",
            "    accuracy                           0.80       179\n",
            "   macro avg       0.79      0.79      0.79       179\n",
            "weighted avg       0.80      0.80      0.80       179\n",
            "\n",
            "LogisticRegression\n",
            "Mean Accuracy:  0.7935446009389672\n",
            "              precision    recall  f1-score   support\n",
            "\n",
            "           0       0.80      0.87      0.83       105\n",
            "           1       0.78      0.69      0.73        74\n",
            "\n",
            "    accuracy                           0.79       179\n",
            "   macro avg       0.79      0.78      0.78       179\n",
            "weighted avg       0.79      0.79      0.79       179\n",
            "\n",
            "SVC\n",
            "Mean Accuracy:  0.8272300469483568\n",
            "              precision    recall  f1-score   support\n",
            "\n",
            "           0       0.82      0.88      0.85       105\n",
            "           1       0.81      0.73      0.77        74\n",
            "\n",
            "    accuracy                           0.82       179\n",
            "   macro avg       0.81      0.80      0.81       179\n",
            "weighted avg       0.82      0.82      0.81       179\n",
            "\n",
            "VotingClassifier\n",
            "Mean Accuracy:  0.8272104851330203\n",
            "              precision    recall  f1-score   support\n",
            "\n",
            "           0       0.80      0.90      0.85       105\n",
            "           1       0.83      0.68      0.75        74\n",
            "\n",
            "    accuracy                           0.81       179\n",
            "   macro avg       0.82      0.79      0.80       179\n",
            "weighted avg       0.81      0.81      0.81       179\n",
            "\n"
          ]
        }
      ],
      "source": [
        "models = {\"ExtraTreesClassifier\":emodel,\"XGBClassifier\":xmodel,\"RandomForestClassifier\":forest,\"LogisticRegression\":LR_best,\"SVC\":svc,\"VotingClassifier\":voting_clf}\n",
        "for model in models:\n",
        "    print(model)\n",
        "    score = cross_val_score(models[model], X_train, y_train, cv=10)\n",
        "    print(\"Mean Accuracy: \",score.mean())\n",
        "    y_pred = models[model].predict(X_val)\n",
        "    print(classification_report(y_val,y_pred))"
      ]
    },
    {
      "attachments": {},
      "cell_type": "markdown",
      "metadata": {},
      "source": [
        "Submission"
      ]
    },
    {
      "cell_type": "code",
      "execution_count": 26,
      "metadata": {
        "colab": {
          "base_uri": "https://localhost:8080/"
        },
        "id": "vrhFhyj6l3gg",
        "outputId": "d367919b-85b8-4d75-da32-a7eabbba50ee"
      },
      "outputs": [],
      "source": [
        "model = voting_clf\n",
        "model.fit(X_train, y_train)\n",
        "X_test = te_data[features]\n",
        "predictions = model.predict(X_test)\n",
        "\n",
        "# Prepare submission file\n",
        "submission = pd.DataFrame({'PassengerId': test_data['PassengerId'], 'Survived': predictions})\n",
        "submission.to_csv('submission.csv', index=False)"
      ]
    }
  ],
  "metadata": {
    "colab": {
      "provenance": []
    },
    "kernelspec": {
      "display_name": "Python 3",
      "name": "python3"
    },
    "language_info": {
      "codemirror_mode": {
        "name": "ipython",
        "version": 3
      },
      "file_extension": ".py",
      "mimetype": "text/x-python",
      "name": "python",
      "nbconvert_exporter": "python",
      "pygments_lexer": "ipython3",
      "version": "3.11.9"
    }
  },
  "nbformat": 4,
  "nbformat_minor": 0
}
